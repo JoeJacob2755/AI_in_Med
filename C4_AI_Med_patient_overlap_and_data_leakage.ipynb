{
  "nbformat": 4,
  "nbformat_minor": 0,
  "metadata": {
    "colab": {
      "provenance": [],
      "authorship_tag": "ABX9TyPocm/IiPxENodvkWFY0aNH",
      "include_colab_link": true
    },
    "kernelspec": {
      "name": "python3",
      "display_name": "Python 3"
    },
    "language_info": {
      "name": "python"
    }
  },
  "cells": [
    {
      "cell_type": "markdown",
      "metadata": {
        "id": "view-in-github",
        "colab_type": "text"
      },
      "source": [
        "<a href=\"https://colab.research.google.com/github/JoeJacob2755/AI_in_Med/blob/main/C4_AI_Med_patient_overlap_and_data_leakage.ipynb\" target=\"_parent\"><img src=\"https://colab.research.google.com/assets/colab-badge.svg\" alt=\"Open In Colab\"/></a>"
      ]
    },
    {
      "cell_type": "markdown",
      "source": [
        "Patient Overlap and Data Leakage\n",
        "Patient overlap in medical data is a part of a more general problem in machine learning called data leakage. To identify patient overlap in this week's graded assignment, you'll check to see if a patient's ID appears in both the training set and the test set. You should also verify that you don't have patient overlap in the training and validation sets, which is what you'll do here.\n",
        "\n",
        "Below is a simple example showing how you can check for and remove patient overlap in your training and validations sets."
      ],
      "metadata": {
        "id": "xJIeoMgiGRYv"
      }
    },
    {
      "cell_type": "code",
      "execution_count": null,
      "metadata": {
        "id": "F6LsDaKjGGqS"
      },
      "outputs": [],
      "source": [
        "# Import necessary packages\n",
        "import pandas as pd\n",
        "import numpy as np\n",
        "import matplotlib.pyplot as plt\n",
        "%matplotlib inline\n",
        "import os\n",
        "import seaborn as sns\n",
        "sns.set()"
      ]
    },
    {
      "cell_type": "markdown",
      "source": [
        "## 1. Data\n",
        "\n",
        "### 1.1 Loading the Data\n",
        "\n",
        "First, you'll read in your training and validation datasets from csv files. Run the next two cells to read these csvs into `pandas` dataframes."
      ],
      "metadata": {
        "id": "qhDZcwGsGYMl"
      }
    },
    {
      "cell_type": "code",
      "source": [
        "# Read csv file containing training data\n",
        "train_df = pd.read_csv(\"data/nih/train-small.csv\") #Change data path if needed to the local drive\n",
        "# Print first 5 rows\n",
        "print(f'There are {train_df.shape[0]} rows and {train_df.shape[1]} columns in the training dataframe')\n",
        "train_df.head()"
      ],
      "metadata": {
        "id": "Sk7J_RbbGbB_"
      },
      "execution_count": null,
      "outputs": []
    },
    {
      "cell_type": "code",
      "source": [
        "# Read csv file containing validation data\n",
        "valid_df = pd.read_csv(\"data/nih/valid-small.csv\")\n",
        "# Print first 5 rows\n",
        "print(f'There are {valid_df.shape[0]} rows and {valid_df.shape[1]} columns in the validation dataframe')\n",
        "valid_df.head()"
      ],
      "metadata": {
        "id": "o6jeAP_iGdWT"
      },
      "execution_count": null,
      "outputs": []
    },
    {
      "cell_type": "markdown",
      "source": [
        "### 1.2 Extracting Patient IDs\n",
        "\n",
        "By running the next three cells you will do the following:\n",
        "1. Extract patient IDs from the train and validation sets"
      ],
      "metadata": {
        "id": "W40GbdsjGlBA"
      }
    },
    {
      "cell_type": "code",
      "source": [
        "# Extract patient id's for the training set\n",
        "ids_train = train_df.PatientId.values\n",
        "# Extract patient id's for the validation set\n",
        "ids_valid = valid_df.PatientId.values"
      ],
      "metadata": {
        "id": "m251lP2nGoJi"
      },
      "execution_count": null,
      "outputs": []
    },
    {
      "cell_type": "markdown",
      "source": [
        "### 1.3 Comparing PatientIDs for Train & Validation Sets\n",
        "\n",
        "2. Convert these arrays of numbers into `set()` datatypes for easy comparison\n",
        "3. Identify patient overlap in the intersection of the two sets"
      ],
      "metadata": {
        "id": "XwOzz7N7GqIG"
      }
    },
    {
      "cell_type": "code",
      "source": [
        "# Create a \"set\" datastructure of the training set id's to identify unique id's\n",
        "ids_train_set = set(ids_train)\n",
        "print(f'There are {len(ids_train_set)} unique Patient IDs in the training set')\n",
        "# Create a \"set\" datastructure of the validation set id's to identify unique id's\n",
        "ids_valid_set = set(ids_valid)\n",
        "print(f'There are {len(ids_valid_set)} unique Patient IDs in the validation set')"
      ],
      "metadata": {
        "id": "a66Q5zN2GtMA"
      },
      "execution_count": null,
      "outputs": []
    },
    {
      "cell_type": "code",
      "source": [
        "# Identify patient overlap by looking at the intersection between the sets\n",
        "patient_overlap = list(ids_train_set.intersection(ids_valid_set))\n",
        "n_overlap = len(patient_overlap)\n",
        "print(f'There are {n_overlap} Patient IDs in both the training and validation sets')\n",
        "print('')\n",
        "print(f'These patients are in both the training and validation datasets:')\n",
        "print(f'{patient_overlap}')"
      ],
      "metadata": {
        "id": "CrquZrQnGvZd"
      },
      "execution_count": null,
      "outputs": []
    },
    {
      "cell_type": "markdown",
      "source": [
        "### 1.4 Identifying & Removing Overlapping Patients\n",
        "\n",
        "Run the next two cells to do the following:\n",
        "1. Create lists of the overlapping row numbers in both the training and validation sets.\n",
        "2. Drop the overlapping patient records from the validation set.\n",
        "\n",
        "**Note:** You could also choose to drop them from train set."
      ],
      "metadata": {
        "id": "wpHYiemcGxbj"
      }
    },
    {
      "cell_type": "code",
      "source": [
        "train_overlap_idxs = []\n",
        "valid_overlap_idxs = []\n",
        "for idx in range(n_overlap):\n",
        "    train_overlap_idxs.extend(train_df.index[train_df['PatientId'] == patient_overlap[idx]].tolist())\n",
        "    valid_overlap_idxs.extend(valid_df.index[valid_df['PatientId'] == patient_overlap[idx]].tolist())\n",
        "\n",
        "print(f'These are the indices of overlapping patients in the training set: ')\n",
        "print(f'{train_overlap_idxs}')\n",
        "print(f'These are the indices of overlapping patients in the validation set: ')\n",
        "print(f'{valid_overlap_idxs}')"
      ],
      "metadata": {
        "id": "Sjzy6wWOGzZF"
      },
      "execution_count": null,
      "outputs": []
    },
    {
      "cell_type": "code",
      "source": [
        "# Drop the overlapping rows from the validation set\n",
        "valid_df.drop(valid_overlap_idxs, inplace=True)"
      ],
      "metadata": {
        "id": "VNVKdGp6G1MI"
      },
      "execution_count": null,
      "outputs": []
    },
    {
      "cell_type": "markdown",
      "source": [
        "### 1.5 Sanity Check\n",
        "\n",
        "Check that everything worked as planned by rerunning the patient ID comparison between train and validation sets. When you run the next two cells you should see that there are now fewer records in the validation set and that the overlap problem has been removed!"
      ],
      "metadata": {
        "id": "JyH6U7yKG3IW"
      }
    },
    {
      "cell_type": "code",
      "source": [
        "# Extract patient id's for the validation set\n",
        "ids_valid = valid_df.PatientId.values\n",
        "# Create a \"set\" datastructure of the validation set id's to identify unique id's\n",
        "ids_valid_set = set(ids_valid)\n",
        "print(f'There are {len(ids_valid_set)} unique Patient IDs in the training set')"
      ],
      "metadata": {
        "id": "TNi7B_4tG5K7"
      },
      "execution_count": null,
      "outputs": []
    },
    {
      "cell_type": "code",
      "source": [
        "# Identify patient overlap by looking at the intersection between the sets\n",
        "patient_overlap = list(ids_train_set.intersection(ids_valid_set))\n",
        "n_overlap = len(patient_overlap)\n",
        "print(f'There are {n_overlap} Patient IDs in both the training and validation sets')"
      ],
      "metadata": {
        "id": "c1-8ReNaG7Ko"
      },
      "execution_count": null,
      "outputs": []
    },
    {
      "cell_type": "markdown",
      "source": [
        "### Congratulations! You removed overlapping patients from the validation set!\n",
        "\n",
        "You could have just as well removed them from the training set.\n",
        "\n",
        "Always be sure to check for patient overlap in your train, validation and test sets."
      ],
      "metadata": {
        "id": "lyX5ve6BG83C"
      }
    }
  ]
}