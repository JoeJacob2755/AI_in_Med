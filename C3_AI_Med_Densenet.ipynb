{
  "nbformat": 4,
  "nbformat_minor": 0,
  "metadata": {
    "colab": {
      "provenance": [],
      "authorship_tag": "ABX9TyMfrmGkuFmMoZOirasr4aM0",
      "include_colab_link": true
    },
    "kernelspec": {
      "name": "python3",
      "display_name": "Python 3"
    },
    "language_info": {
      "name": "python"
    }
  },
  "cells": [
    {
      "cell_type": "markdown",
      "metadata": {
        "id": "view-in-github",
        "colab_type": "text"
      },
      "source": [
        "<a href=\"https://colab.research.google.com/github/JoeJacob2755/AI_in_Med/blob/main/C3_AI_Med_Densenet.ipynb\" target=\"_parent\"><img src=\"https://colab.research.google.com/assets/colab-badge.svg\" alt=\"Open In Colab\"/></a>"
      ]
    },
    {
      "cell_type": "markdown",
      "source": [
        "# Densenet\n",
        "\n",
        "In this week's assignment, you'll be using a pre-trained Densenet model for image classification.\n",
        "\n",
        "Densenet is a convolutional network where each layer is connected to all other layers that are deeper in the network\n",
        "- The first layer is connected to the 3rd, 4th etc.\n",
        "- The second layer is connected to the 3rd, 4th, 5th etc.\n",
        "\n",
        "Like this:\n",
        "\n",
        "<img src=\"images/densenet.png\" alt=\"U-net Image\" width=\"400\" align=\"middle\"/>\n",
        "\n",
        "For a detailed explanation of Densenet, check out the source of the image above, a paper by Gao Huang et al. 2018 called [Densely Connected Convolutional Networks](https://arxiv.org/pdf/1608.06993.pdf).\n",
        "\n",
        "The cells below are set up to provide an exploration of the Keras densenet implementation that you'll be using in the assignment. Run these cells to gain some insight into the network architecture."
      ],
      "metadata": {
        "id": "gjTQN1SID2iF"
      }
    },
    {
      "cell_type": "code",
      "execution_count": 1,
      "metadata": {
        "id": "Vmvj5eg5DvkD"
      },
      "outputs": [],
      "source": [
        "# Import Densenet from Keras\n",
        "from keras.applications.densenet import DenseNet121\n",
        "from keras.layers import Dense, GlobalAveragePooling2D\n",
        "from keras.models import Model\n",
        "from keras import backend as K\n",
        "\n",
        "import tensorflow as tf\n",
        "tf.compat.v1.logging.set_verbosity(tf.compat.v1.logging.ERROR)"
      ]
    },
    {
      "cell_type": "markdown",
      "source": [
        "For your work in the assignment, you'll be loading a set of pre-trained weights to reduce training time."
      ],
      "metadata": {
        "id": "YIy7rijjEZdG"
      }
    },
    {
      "cell_type": "code",
      "source": [
        "# Create the base pre-trained model\n",
        "base_model = DenseNet121(weights='./models/nih/densenet.hdf5', include_top=False); # the weights needs to be stored locally."
      ],
      "metadata": {
        "colab": {
          "base_uri": "https://localhost:8080/",
          "height": 304
        },
        "id": "PjUFdl6dEblP",
        "outputId": "b4b08da3-8cd9-46a2-b672-f57a5077ad17"
      },
      "execution_count": 2,
      "outputs": [
        {
          "output_type": "error",
          "ename": "ValueError",
          "evalue": "The `weights` argument should be either `None` (random initialization), `imagenet` (pre-training on ImageNet), or the path to the weights file to be loaded.",
          "traceback": [
            "\u001b[0;31m---------------------------------------------------------------------------\u001b[0m",
            "\u001b[0;31mValueError\u001b[0m                                Traceback (most recent call last)",
            "\u001b[0;32m<ipython-input-2-55f081c5e427>\u001b[0m in \u001b[0;36m<cell line: 2>\u001b[0;34m()\u001b[0m\n\u001b[1;32m      1\u001b[0m \u001b[0;31m# Create the base pre-trained model\u001b[0m\u001b[0;34m\u001b[0m\u001b[0;34m\u001b[0m\u001b[0m\n\u001b[0;32m----> 2\u001b[0;31m \u001b[0mbase_model\u001b[0m \u001b[0;34m=\u001b[0m \u001b[0mDenseNet121\u001b[0m\u001b[0;34m(\u001b[0m\u001b[0mweights\u001b[0m\u001b[0;34m=\u001b[0m\u001b[0;34m'./models/nih/densenet.hdf5'\u001b[0m\u001b[0;34m,\u001b[0m \u001b[0minclude_top\u001b[0m\u001b[0;34m=\u001b[0m\u001b[0;32mFalse\u001b[0m\u001b[0;34m)\u001b[0m\u001b[0;34m;\u001b[0m\u001b[0;34m\u001b[0m\u001b[0;34m\u001b[0m\u001b[0m\n\u001b[0m",
            "\u001b[0;32m/usr/local/lib/python3.10/dist-packages/keras/src/applications/densenet.py\u001b[0m in \u001b[0;36mDenseNet121\u001b[0;34m(include_top, weights, input_tensor, input_shape, pooling, classes, classifier_activation, name)\u001b[0m\n\u001b[1;32m    336\u001b[0m ):\n\u001b[1;32m    337\u001b[0m     \u001b[0;34m\"\"\"Instantiates the Densenet121 architecture.\"\"\"\u001b[0m\u001b[0;34m\u001b[0m\u001b[0;34m\u001b[0m\u001b[0m\n\u001b[0;32m--> 338\u001b[0;31m     return DenseNet(\n\u001b[0m\u001b[1;32m    339\u001b[0m         \u001b[0;34m[\u001b[0m\u001b[0;36m6\u001b[0m\u001b[0;34m,\u001b[0m \u001b[0;36m12\u001b[0m\u001b[0;34m,\u001b[0m \u001b[0;36m24\u001b[0m\u001b[0;34m,\u001b[0m \u001b[0;36m16\u001b[0m\u001b[0;34m]\u001b[0m\u001b[0;34m,\u001b[0m\u001b[0;34m\u001b[0m\u001b[0;34m\u001b[0m\u001b[0m\n\u001b[1;32m    340\u001b[0m         \u001b[0minclude_top\u001b[0m\u001b[0;34m,\u001b[0m\u001b[0;34m\u001b[0m\u001b[0;34m\u001b[0m\u001b[0m\n",
            "\u001b[0;32m/usr/local/lib/python3.10/dist-packages/keras/src/applications/densenet.py\u001b[0m in \u001b[0;36mDenseNet\u001b[0;34m(blocks, include_top, weights, input_tensor, input_shape, pooling, classes, classifier_activation, name)\u001b[0m\n\u001b[1;32m    190\u001b[0m         )\n\u001b[1;32m    191\u001b[0m     \u001b[0;32mif\u001b[0m \u001b[0;32mnot\u001b[0m \u001b[0;34m(\u001b[0m\u001b[0mweights\u001b[0m \u001b[0;32min\u001b[0m \u001b[0;34m{\u001b[0m\u001b[0;34m\"imagenet\"\u001b[0m\u001b[0;34m,\u001b[0m \u001b[0;32mNone\u001b[0m\u001b[0;34m}\u001b[0m \u001b[0;32mor\u001b[0m \u001b[0mfile_utils\u001b[0m\u001b[0;34m.\u001b[0m\u001b[0mexists\u001b[0m\u001b[0;34m(\u001b[0m\u001b[0mweights\u001b[0m\u001b[0;34m)\u001b[0m\u001b[0;34m)\u001b[0m\u001b[0;34m:\u001b[0m\u001b[0;34m\u001b[0m\u001b[0;34m\u001b[0m\u001b[0m\n\u001b[0;32m--> 192\u001b[0;31m         raise ValueError(\n\u001b[0m\u001b[1;32m    193\u001b[0m             \u001b[0;34m\"The `weights` argument should be either \"\u001b[0m\u001b[0;34m\u001b[0m\u001b[0;34m\u001b[0m\u001b[0m\n\u001b[1;32m    194\u001b[0m             \u001b[0;34m\"`None` (random initialization), `imagenet` \"\u001b[0m\u001b[0;34m\u001b[0m\u001b[0;34m\u001b[0m\u001b[0m\n",
            "\u001b[0;31mValueError\u001b[0m: The `weights` argument should be either `None` (random initialization), `imagenet` (pre-training on ImageNet), or the path to the weights file to be loaded."
          ]
        }
      ]
    },
    {
      "cell_type": "markdown",
      "source": [
        "View a summary of the model"
      ],
      "metadata": {
        "id": "DSgIw2i1EiDk"
      }
    },
    {
      "cell_type": "code",
      "source": [
        "# Print the model summary\n",
        "base_model.summary()"
      ],
      "metadata": {
        "id": "wOAGHG3VEkKO"
      },
      "execution_count": null,
      "outputs": []
    },
    {
      "cell_type": "code",
      "source": [
        "# Print out the first five layers\n",
        "layers_l = base_model.layers\n",
        "\n",
        "print(\"First 5 layers\")\n",
        "layers_l[0:5]"
      ],
      "metadata": {
        "id": "eFi36KmrEn_v"
      },
      "execution_count": null,
      "outputs": []
    },
    {
      "cell_type": "code",
      "source": [
        "# Print out the last five layers\n",
        "print(\"Last 5 layers\")\n",
        "layers_l[-6:-1]"
      ],
      "metadata": {
        "id": "plfKxc-UFNKb"
      },
      "execution_count": null,
      "outputs": []
    },
    {
      "cell_type": "code",
      "source": [
        "# Get the convolutional layers and print the first 5\n",
        "conv2D_layers = [layer for layer in base_model.layers\n",
        "                if str(type(layer)).find('Conv2D') > -1]\n",
        "print(\"The first five conv2D layers\")\n",
        "conv2D_layers[0:5]"
      ],
      "metadata": {
        "id": "1lwHPcHoFQps"
      },
      "execution_count": null,
      "outputs": []
    },
    {
      "cell_type": "code",
      "source": [
        "# Print out the total number of convolutional layers\n",
        "print(f\"There are {len(conv2D_layers)} convolutional layers\")"
      ],
      "metadata": {
        "id": "si-ULbNvFS_T"
      },
      "execution_count": null,
      "outputs": []
    },
    {
      "cell_type": "code",
      "source": [
        "# Print the number of channels in the input\n",
        "print(\"The input has 3 channels\")\n",
        "base_model.input"
      ],
      "metadata": {
        "id": "MWP-8CIjFaXs"
      },
      "execution_count": null,
      "outputs": []
    },
    {
      "cell_type": "code",
      "source": [
        "# Print the number of output channels\n",
        "print(\"The output has 1024 channels\")\n",
        "x = base_model.output\n",
        "x"
      ],
      "metadata": {
        "id": "ydYVkEzyFbzE"
      },
      "execution_count": null,
      "outputs": []
    },
    {
      "cell_type": "code",
      "source": [
        "# Add a global spatial average pooling layer\n",
        "x_pool = GlobalAveragePooling2D()(x)\n",
        "x_pool"
      ],
      "metadata": {
        "id": "ATRSbaIAFdmK"
      },
      "execution_count": null,
      "outputs": []
    },
    {
      "cell_type": "code",
      "source": [
        "# Define a set of five class labels to use as an example\n",
        "labels = ['Emphysema',\n",
        "          'Hernia',\n",
        "          'Mass',\n",
        "          'Pneumonia',\n",
        "          'Edema']\n",
        "n_classes = len(labels)\n",
        "print(f\"In this example, you want your model to identify {n_classes} classes\")"
      ],
      "metadata": {
        "id": "lrcP2XNQFgE2"
      },
      "execution_count": null,
      "outputs": []
    },
    {
      "cell_type": "code",
      "source": [
        "# Add a logistic layer the same size as the number of classes you're trying to predict\n",
        "predictions = Dense(n_classes, activation=\"sigmoid\")(x_pool)\n",
        "print(\"Predictions have {n_classes} units, one for each class\")\n",
        "predictions"
      ],
      "metadata": {
        "id": "z0Ftm6syFiCz"
      },
      "execution_count": null,
      "outputs": []
    },
    {
      "cell_type": "code",
      "source": [
        "# Create an updated model\n",
        "model = Model(inputs=base_model.input, outputs=predictions)"
      ],
      "metadata": {
        "id": "QCADleqcFjir"
      },
      "execution_count": null,
      "outputs": []
    },
    {
      "cell_type": "code",
      "source": [
        "# Compile the model\n",
        "model.compile(optimizer='adam',\n",
        "              loss='categorical_crossentropy')\n",
        "# (You'll customize the loss function in the assignment!)"
      ],
      "metadata": {
        "id": "IiZO5VjWFlHT"
      },
      "execution_count": null,
      "outputs": []
    },
    {
      "cell_type": "markdown",
      "source": [
        "#### This has been a brief exploration of the Densenet architecture you'll use in this week's graded assignment!"
      ],
      "metadata": {
        "id": "9ZcPS8hHFvWk"
      }
    }
  ]
}