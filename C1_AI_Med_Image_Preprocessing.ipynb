{
  "nbformat": 4,
  "nbformat_minor": 0,
  "metadata": {
    "colab": {
      "provenance": [],
      "authorship_tag": "ABX9TyPpP2UWgCVSsZGVM+elXk7O",
      "include_colab_link": true
    },
    "kernelspec": {
      "name": "python3",
      "display_name": "Python 3"
    },
    "language_info": {
      "name": "python"
    }
  },
  "cells": [
    {
      "cell_type": "markdown",
      "metadata": {
        "id": "view-in-github",
        "colab_type": "text"
      },
      "source": [
        "<a href=\"https://colab.research.google.com/github/JoeJacob2755/AI_in_Med/blob/main/C1_AI_Med_Image_Preprocessing.ipynb\" target=\"_parent\"><img src=\"https://colab.research.google.com/assets/colab-badge.svg\" alt=\"Open In Colab\"/></a>"
      ]
    },
    {
      "cell_type": "markdown",
      "source": [
        "## Data Exploration & Image Pre-Processing\n",
        "- In the first assignment of this course, you will work with chest x-ray images taken from the public ChestX-ray8 dataset. In this notebook, you'll get a chance to explore this dataset and familiarize yourself with some of the techniques you'll use in the first graded assignment.\n",
        "\n",
        "- The first step before jumping into writing code for any machine learning project is to explore your data. A standard Python package for analyzing and manipulating data is pandas.\n",
        "\n",
        "- With the next two code cells, you'll import pandas and a package called numpy for numerical manipulation, then use pandas to read a csv file into a dataframe and print out the first few rows of data."
      ],
      "metadata": {
        "id": "aB5_8hr5mT28"
      }
    },
    {
      "cell_type": "code",
      "source": [
        "# Import necessary packages\n",
        "import pandas as pd\n",
        "import numpy as np\n",
        "import matplotlib.pyplot as plt\n",
        "%matplotlib inline\n",
        "import os\n",
        "import seaborn as sns\n",
        "sns.set()"
      ],
      "metadata": {
        "id": "8jAIBjEYmqgz"
      },
      "execution_count": null,
      "outputs": []
    },
    {
      "cell_type": "markdown",
      "source": [
        "## 1. Exploration\n",
        "Read the data from csv files."
      ],
      "metadata": {
        "id": "RM42i4Hlmvxc"
      }
    },
    {
      "cell_type": "code",
      "source": [
        "# Read csv file containing training datadata\n",
        "train_df = pd.read_csv(\"data/nih/train-small.csv\") # the code wont run as o f now as the data is missing\n",
        "# Print first 5 rows\n",
        "print(f'There are {train_df.shape[0]} rows and {train_df.shape[1]} columns in this data frame')\n",
        "train_df.head()"
      ],
      "metadata": {
        "id": "Ctkyto3_m6-6"
      },
      "execution_count": null,
      "outputs": []
    },
    {
      "cell_type": "markdown",
      "source": [
        "Have a look at the various columns in this csv file. The file contains the names of chest x-ray images (\"Image\" column) and the columns filled with ones and zeros identify which diagnoses were given based on each x-ray image."
      ],
      "metadata": {
        "id": "RaizR7R9nFbw"
      }
    },
    {
      "cell_type": "markdown",
      "source": [
        "## 1.1 Data Types and Null Values Check\n",
        "Run the next cell to explore the data types present in each column and whether any null values exist in the data."
      ],
      "metadata": {
        "id": "pkYUokFunJZn"
      }
    },
    {
      "cell_type": "code",
      "source": [
        "# Look at the data type of each column and whether null values are present\n",
        "train_df.info()"
      ],
      "metadata": {
        "id": "M7UYBOKRnV8C"
      },
      "execution_count": null,
      "outputs": []
    },
    {
      "cell_type": "markdown",
      "source": [
        "## 1.2 Unique IDs Check\n",
        "\"PatientId\" has an identification number for each patient. One thing you'd like to know about a medical dataset like this is if you're looking at repeated data for certain patients or whether each image represents a different person."
      ],
      "metadata": {
        "id": "BsIu7c9so-uf"
      }
    },
    {
      "cell_type": "code",
      "source": [
        "print(f\"The total patient ids are {train_df['PatientId'].count()}, from those the unique ids are {train_df['PatientId'].value_counts().shape[0]} \")"
      ],
      "metadata": {
        "id": "-RpvwAq5pGIK"
      },
      "execution_count": null,
      "outputs": []
    },
    {
      "cell_type": "markdown",
      "source": [
        "As you can see, the number of unique patients in the dataset is less than the total number so there must be some overlap. For patients with multiple records, you'll want to make sure they do not show up in both training and test sets in order to avoid data leakage (covered later in this week's lectures)."
      ],
      "metadata": {
        "id": "7zqQqIm5pK9R"
      }
    },
    {
      "cell_type": "markdown",
      "source": [
        "## 1.3 Data Labels\n",
        "Run the next two code cells to create a list of the names of each patient condition or disease."
      ],
      "metadata": {
        "id": "oiRYVEIQpk3i"
      }
    },
    {
      "cell_type": "code",
      "source": [
        "columns = train_df.keys()\n",
        "columns = list(columns)\n",
        "print(columns)"
      ],
      "metadata": {
        "id": "75a70s6-ppYZ"
      },
      "execution_count": null,
      "outputs": []
    },
    {
      "cell_type": "code",
      "source": [
        "# Remove unnecesary elements\n",
        "columns.remove('Image')\n",
        "columns.remove('PatientId')\n",
        "# Get the total classes\n",
        "print(f\"There are {len(columns)} columns of labels for these conditions: {columns}\")"
      ],
      "metadata": {
        "id": "ydh1pAJGpuE-"
      },
      "execution_count": null,
      "outputs": []
    },
    {
      "cell_type": "markdown",
      "source": [
        "Run the next cell to print out the number of positive labels (1's) for each condition"
      ],
      "metadata": {
        "id": "ppa2QCtjpyRr"
      }
    },
    {
      "cell_type": "code",
      "source": [
        "# Print out the number of positive labels for each class\n",
        "for column in columns:\n",
        "    print(f\"The class {column} has {train_df[column].sum()} samples\")"
      ],
      "metadata": {
        "id": "reZ8Ey5yqEwj"
      },
      "execution_count": null,
      "outputs": []
    },
    {
      "cell_type": "markdown",
      "source": [
        "Have a look at the counts for the labels in each class above. Does this look like a balanced dataset?"
      ],
      "metadata": {
        "id": "qM5FeWGoqIw8"
      }
    },
    {
      "cell_type": "markdown",
      "source": [
        "## 1.4 Data Visualization\n",
        "Using the image names listed in the csv file, you can retrieve the image associated with each row of data in your dataframe.\n",
        "\n",
        "Run the cell below to visualize a random selection of images from the dataset."
      ],
      "metadata": {
        "id": "0xtZxP0CqLh1"
      }
    },
    {
      "cell_type": "code",
      "source": [
        "# Extract numpy values from Image column in data frame\n",
        "images = train_df['Image'].values\n",
        "\n",
        "# Extract 9 random images from it\n",
        "random_images = [np.random.choice(images) for i in range(9)]\n",
        "\n",
        "# Location of the image dir\n",
        "img_dir = 'data/nih/images-small/'\n",
        "\n",
        "print('Display Random Images')\n",
        "\n",
        "# Adjust the size of your images\n",
        "plt.figure(figsize=(20,10))\n",
        "\n",
        "# Iterate and plot random images\n",
        "for i in range(9):\n",
        "    plt.subplot(3, 3, i + 1)\n",
        "    img = plt.imread(os.path.join(img_dir, random_images[i]))\n",
        "    plt.imshow(img, cmap='gray')\n",
        "    plt.axis('off')\n",
        "\n",
        "# Adjust subplot parameters to give specified padding\n",
        "plt.tight_layout()"
      ],
      "metadata": {
        "id": "csRu-2DIqTqb"
      },
      "execution_count": null,
      "outputs": []
    },
    {
      "cell_type": "markdown",
      "source": [],
      "metadata": {
        "id": "DRwfYIL7qo5d"
      }
    },
    {
      "cell_type": "markdown",
      "source": [
        "## 1.5 Investigating a Single Image\n",
        "Run the cell below to look at the first image in the dataset and print out some details of the image contents."
      ],
      "metadata": {
        "id": "wJ53bhtvqoUM"
      }
    },
    {
      "cell_type": "code",
      "source": [
        "# Get the first image that was listed in the train_df dataframe\n",
        "sample_img = train_df.Image[0]\n",
        "raw_image = plt.imread(os.path.join(img_dir, sample_img))\n",
        "plt.imshow(raw_image, cmap='gray')\n",
        "plt.colorbar()\n",
        "plt.title('Raw Chest X Ray Image')\n",
        "print(f\"The dimensions of the image are {raw_image.shape[0]} pixels width and {raw_image.shape[1]} pixels height, one single color channel\")\n",
        "print(f\"The maximum pixel value is {raw_image.max():.4f} and the minimum is {raw_image.min():.4f}\")\n",
        "print(f\"The mean value of the pixels is {raw_image.mean():.4f} and the standard deviation is {raw_image.std():.4f}\")"
      ],
      "metadata": {
        "id": "FekWficFqv0i"
      },
      "execution_count": null,
      "outputs": []
    },
    {
      "cell_type": "markdown",
      "source": [
        "## 1.6 Investigating Pixel Value Distribution\n",
        "Run the cell below to plot up the distribution of pixel values in the image shown above."
      ],
      "metadata": {
        "id": "HVow84snq07u"
      }
    },
    {
      "cell_type": "code",
      "source": [
        "# Plot a histogram of the distribution of the pixels\n",
        "sns.distplot(raw_image.ravel(),\n",
        "             label=f'Pixel Mean {np.mean(raw_image):.4f} & Standard Deviation {np.std(raw_image):.4f}', kde=False)\n",
        "plt.legend(loc='upper center')\n",
        "plt.title('Distribution of Pixel Intensities in the Image')\n",
        "plt.xlabel('Pixel Intensity')\n",
        "plt.ylabel('# Pixels in Image')"
      ],
      "metadata": {
        "id": "iuUM8g2Ft-Ed"
      },
      "execution_count": null,
      "outputs": []
    },
    {
      "cell_type": "markdown",
      "source": [
        "## 2. Image Preprocessing in Keras\n",
        "- Before training, you'll first modify your images to be better suited for training a convolutional neural network. For this task you'll use the Keras `ImageDataGenerator` function to perform data preprocessing and data augmentation.\n",
        "\n",
        "Run the next two cells to import this function and create an image generator for preprocessing."
      ],
      "metadata": {
        "id": "dc17c6osuCVm"
      }
    },
    {
      "cell_type": "code",
      "source": [
        "# Import data generator from keras\n",
        "from keras.preprocessing.image import ImageDataGenerator"
      ],
      "metadata": {
        "id": "H7h2l6y8uBzJ"
      },
      "execution_count": null,
      "outputs": []
    },
    {
      "cell_type": "code",
      "source": [
        "# Normalize images\n",
        "image_generator = ImageDataGenerator(\n",
        "    samplewise_center=True, #Set each sample mean to 0.\n",
        "    samplewise_std_normalization= True # Divide each input by its standard deviation\n",
        ")"
      ],
      "metadata": {
        "id": "u4Xfdm8QuS76"
      },
      "execution_count": null,
      "outputs": []
    },
    {
      "cell_type": "markdown",
      "source": [
        "## 2.1 Standardization\n",
        "The image_generator you created above will act to adjust your image data such that the new mean of the data will be zero, and the standard deviation of the data will be 1.\n",
        "\n",
        "In other words, the generator will replace each pixel value in the image with a new value calculated by subtracting the mean and dividing by the standard deviation.\n",
        "\n",
        "$$\\frac{x_i - \\mu}{\\sigma}$$\n",
        "\n",
        "\n",
        "Run the next cell to pre-process your data using the image_generator. In this step you will also be reducing the image size down to 320x320 pixels."
      ],
      "metadata": {
        "id": "Kuk9yMf5uZsM"
      }
    },
    {
      "cell_type": "code",
      "source": [
        "# Flow from directory with specified batch size and target image size\n",
        "generator = image_generator.flow_from_dataframe(\n",
        "        dataframe=train_df,\n",
        "        directory=\"data/nih/images-small/\",\n",
        "        x_col=\"Image\", # features\n",
        "        # Let's say we build a model for mass detection\n",
        "        y_col= ['Mass'], # labels\n",
        "        class_mode=\"raw\", # 'Mass' column should be in train_df\n",
        "        batch_size= 1, # images per batch\n",
        "        shuffle=False, # shuffle the rows or not\n",
        "        target_size=(320,320) # width and height of output image\n",
        ")"
      ],
      "metadata": {
        "id": "t_mBjGt3uZJT"
      },
      "execution_count": null,
      "outputs": []
    },
    {
      "cell_type": "markdown",
      "source": [
        "Run the next cell to plot up an example of a pre-processed image"
      ],
      "metadata": {
        "id": "q3p9pfOiwAN4"
      }
    },
    {
      "cell_type": "code",
      "source": [
        "# Plot a processed image\n",
        "sns.set_style(\"white\")\n",
        "generated_image, label = generator.__getitem__(0)\n",
        "plt.imshow(generated_image[0], cmap='gray')\n",
        "plt.colorbar()\n",
        "plt.title('Raw Chest X Ray Image')\n",
        "print(f\"The dimensions of the image are {generated_image.shape[1]} pixels width and {generated_image.shape[2]} pixels height\")\n",
        "print(f\"The maximum pixel value is {generated_image.max():.4f} and the minimum is {generated_image.min():.4f}\")\n",
        "print(f\"The mean value of the pixels is {generated_image.mean():.4f} and the standard deviation is {generated_image.std():.4f}\")"
      ],
      "metadata": {
        "id": "Mws_BhO_wG0e"
      },
      "execution_count": null,
      "outputs": []
    },
    {
      "cell_type": "markdown",
      "source": [
        "Run the cell below to see a comparison of the distribution of pixel values in the new pre-processed image versus the raw image."
      ],
      "metadata": {
        "id": "zx6oUNBiwK6Z"
      }
    },
    {
      "cell_type": "code",
      "source": [
        "# Include a histogram of the distribution of the pixels\n",
        "sns.set()\n",
        "plt.figure(figsize=(10, 7))\n",
        "\n",
        "# Plot histogram for original iamge\n",
        "sns.distplot(raw_image.ravel(),\n",
        "             label=f'Original Image: mean {np.mean(raw_image):.4f} - Standard Deviation {np.std(raw_image):.4f} \\n '\n",
        "             f'Min pixel value {np.min(raw_image):.4} - Max pixel value {np.max(raw_image):.4}',\n",
        "             color='blue',\n",
        "             kde=False)\n",
        "\n",
        "# Plot histogram for generated image\n",
        "sns.distplot(generated_image[0].ravel(),\n",
        "             label=f'Generated Image: mean {np.mean(generated_image[0]):.4f} - Standard Deviation {np.std(generated_image[0]):.4f} \\n'\n",
        "             f'Min pixel value {np.min(generated_image[0]):.4} - Max pixel value {np.max(generated_image[0]):.4}',\n",
        "             color='red',\n",
        "             kde=False)\n",
        "\n",
        "# Place legends\n",
        "plt.legend()\n",
        "plt.title('Distribution of Pixel Intensities in the Image')\n",
        "plt.xlabel('Pixel Intensity')\n",
        "plt.ylabel('# Pixel')"
      ],
      "metadata": {
        "id": "y2_MM1ghwM0B"
      },
      "execution_count": null,
      "outputs": []
    }
  ]
}